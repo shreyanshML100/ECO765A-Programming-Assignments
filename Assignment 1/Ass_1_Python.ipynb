{
 "cells": [
  {
   "cell_type": "code",
   "execution_count": 263,
   "metadata": {},
   "outputs": [],
   "source": [
    "import numpy as np\n",
    "import matplotlib.pyplot as plt\n",
    "import pandas as pd"
   ]
  },
  {
   "cell_type": "code",
   "execution_count": 264,
   "metadata": {},
   "outputs": [
    {
     "data": {
      "image/png": "[encoded data removed]",
      "text/plain": [
       "<Figure size 432x288 with 1 Axes>"
      ]
     },
     "metadata": {
      "needs_background": "light"
     },
     "output_type": "display_data"
    }
   ],
   "source": [
    "# 1(a)\n",
    "a1 = np.array([1,0])\n",
    "sd1 = np.array([[1,0],[0,1]])\n",
    "m = np.random.multivariate_normal(a1, sd1, 10)\n",
    "\n",
    "a2 = np.array([0,1])\n",
    "sd2 = np.array([[1,0],[0,1]])\n",
    "md = np.random.multivariate_normal(a2, sd2, 10)\n",
    "\n",
    "\n",
    "# 1(b)\n",
    "a=0\n",
    "sd=np.array([[0.1,0],[0,0.1]])\n",
    "a=m[0]\n",
    "p1=np.random.multivariate_normal(a,sd,10)\n",
    "for i in range(9):\n",
    "    a = m[i+1]\n",
    "    p1 = np.concatenate((p1,np.random.multivariate_normal(a, sd, 10)), axis=0)\n",
    "    \n",
    "# 1(c)\n",
    "a = 0\n",
    "sd = np.array([[0.1,0],[0,0.1]])\n",
    "a = md[0]\n",
    "n1= np.random.multivariate_normal(a,sd,10)\n",
    "for i in range(9):\n",
    "    a = md[i+1]\n",
    "    n1 = np.concatenate((n1,np.random.multivariate_normal(a,sd, 10)), axis = 0)\n",
    "\n",
    "# Plotting the formed dataset\n",
    "plt.figure()\n",
    "plt.plot(p1[0::, 0], p1[0::, 1], 'o', color = 'blue') #+1 dots are shown as blue dots\n",
    "plt.plot(n1[0::, 0], n1[0::, 1],'o', color = 'red')   #-1 dots are shown as red dots\n",
    "plt.show()"
   ]
  },
  {
   "cell_type": "code",
   "execution_count": 265,
   "metadata": {},
   "outputs": [],
   "source": [
    "Yp1 = np.ones(p1.shape[0],)\n",
    "Yp1\n",
    "Yn1 = -1*np.ones(p1.shape[0])\n",
    "Yn1\n",
    "Y = np.concatenate((Yp1,Yn1),axis=0)\n",
    "X1 = np.concatenate((p1,n1),axis=0)\n",
    "m = X.shape[0]\n",
    "X = np.hstack(((np.ones((m,))).reshape(m,1), X1))"
   ]
  },
  {
   "cell_type": "code",
   "execution_count": 266,
   "metadata": {},
   "outputs": [
    {
     "data": {
      "image/png": "[encoded data removed]",
      "text/plain": [
       "<Figure size 432x288 with 1 Axes>"
      ]
     },
     "metadata": {
      "needs_background": "light"
     },
     "output_type": "display_data"
    },
    {
     "name": "stdout",
     "output_type": "stream",
     "text": [
      "Training Set Error using Linear Model is  23.5 %\n"
     ]
    }
   ],
   "source": [
    "# Q2 : Classifying using Linear Model\n",
    "\n",
    "def linearRegression(X_train, Y_train):\n",
    "    theta = np.linalg.inv(X_train.T@X_train)@X_train.T@Y_train\n",
    "    return theta\n",
    "\n",
    "theta = linearRegression(X, Y)\n",
    "plt.figure()\n",
    "plt.plot(p1[0::, 0], p1[0::, 1], 'o', color = 'blue') #+1 dots are shown as blue dots\n",
    "plt.plot(n1[0::, 0], n1[0::, 1],'o', color = 'red')   #-1 dots are shown as red dots\n",
    "temp_x1 = np.array([-2,-1,0,1,2,3])\n",
    "temp_x2 = (-1*theta[1]/theta[2])*temp_x1 - theta[0]/theta[2]\n",
    "plt.plot(temp_x1, temp_x2, color='black')\n",
    "plt.show()\n",
    "\n",
    "Y_pred = X@theta\n",
    "Y_p = np.array([])\n",
    "for i in Y_pred:\n",
    "    if (i>0):\n",
    "        Y_p = np.concatenate((Y_p,np.array([1])))\n",
    "    else:\n",
    "        Y_p = np.concatenate((Y_p,np.array([-1])))\n",
    "Miss =np.sum(np.abs(Y_p-Y)/2)\n",
    "Total = Y.shape[0]\n",
    "error = Miss/Total*100;\n",
    "print(\"Training Set Error using Linear Model is \", error,\"%\")"
   ]
  },
  {
   "cell_type": "code",
   "execution_count": null,
   "metadata": {},
   "outputs": [],
   "source": []
  },
  {
   "cell_type": "code",
   "execution_count": null,
   "metadata": {},
   "outputs": [],
   "source": []
  },
  {
   "cell_type": "code",
   "execution_count": null,
   "metadata": {},
   "outputs": [],
   "source": []
  },
  {
   "cell_type": "code",
   "execution_count": null,
   "metadata": {},
   "outputs": [],
   "source": []
  },
  {
   "cell_type": "code",
   "execution_count": null,
   "metadata": {},
   "outputs": [],
   "source": []
  },
  {
   "cell_type": "code",
   "execution_count": null,
   "metadata": {},
   "outputs": [],
   "source": []
  },
  {
   "cell_type": "code",
   "execution_count": null,
   "metadata": {},
   "outputs": [],
   "source": []
  }
 ],
 "metadata": {
  "kernelspec": {
   "display_name": "Python 3",
   "language": "python",
   "name": "python3"
  },
  "language_info": {
   "codemirror_mode": {
    "name": "ipython",
    "version": 3
   },
   "file_extension": ".py",
   "mimetype": "text/x-python",
   "name": "python",
   "nbconvert_exporter": "python",
   "pygments_lexer": "ipython3",
   "version": "3.8.5"
  }
 },
 "nbformat": 4,
 "nbformat_minor": 4
}
