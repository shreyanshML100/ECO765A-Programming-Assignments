{
  "nbformat": 4,
  "nbformat_minor": 0,
  "metadata": {
    "colab": {
      "provenance": []
    },
    "kernelspec": {
      "name": "python3",
      "display_name": "Python 3"
    },
    "language_info": {
      "name": "python"
    }
  },
  "cells": [
    {
      "cell_type": "code",
      "execution_count": 369,
      "metadata": {
        "id": "nMx0wdLUjJ-k"
      },
      "outputs": [],
      "source": [
        "import numpy as np\n",
        "import matplotlib.pyplot as plt\n",
        "import pandas as pd"
      ]
    },
    {
      "cell_type": "markdown",
      "source": [
        "Question 1."
      ],
      "metadata": {
        "id": "lSCLzRDUkmVT"
      }
    },
    {
      "cell_type": "code",
      "source": [
        "#Misclassification Function\n",
        "def misclass(dataY):\n",
        "  p=0\n",
        "  for i in range(dataY.shape[0]):\n",
        "    if dataY[i]==1:\n",
        "      p=p+1\n",
        "  if dataY.shape[0]==0:\n",
        "    return 0\n",
        "  p = p/(dataY.shape[0])\n",
        "  return min(p,1-p)"
      ],
      "metadata": {
        "id": "TaPzvwEu2Mcq"
      },
      "execution_count": 358,
      "outputs": []
    },
    {
      "cell_type": "code",
      "source": [
        "\n",
        "def makeTree(dataX, dataY, maxlayer):\n",
        "  X1min = min(dataX[:,0])\n",
        "  X2min = min(dataX[:,1])\n",
        "  X1max = max(dataX[:,0])\n",
        "  X2max = max(dataX[:,1])\n",
        "  \n",
        "  m = Tree(dataX, dataY, maxlayer, 0, X1min, X1max, X2min, X2max)\n",
        "  plt.show()\n",
        "  return m"
      ],
      "metadata": {
        "id": "8q4DW7a_1fva"
      },
      "execution_count": 359,
      "outputs": []
    },
    {
      "cell_type": "code",
      "source": [
        "\n",
        "def Tree(dataX, dataY, maxlayer, layer, X1min, X1max, X2min, X2max):\n",
        "  mep = misclass(dataY)\n",
        "  total = dataY.shape[0]\n",
        "  #Base Conditions\n",
        "  if layer>maxlayer:\n",
        "    error[0] = error[0] + mep*total\n",
        "    return\n",
        "  elif dataY.shape[0] <=10:\n",
        "    error[0] = error[0] + mep*total\n",
        "    return\n",
        "  elif misclass(dataY)==0:\n",
        "    return\n",
        "\n",
        " \n",
        "  #Calculating the Maximum Gain over the Misclassification Loss\n",
        "  gainx = -1e8\n",
        "  gainy = -1e8\n",
        "  cx = X1min+0.1\n",
        "  cy = X2min+0.1\n",
        "  ocx = 0\n",
        "  ocy = 0\n",
        "  count1=0\n",
        "  count2=0\n",
        "  p1=0\n",
        "  p2=0\n",
        "  while cx<X1max:\n",
        "    \n",
        "    for i in range(dataX.shape[0]):\n",
        "      if (dataX[i,0]<cx):\n",
        "        count1+=1\n",
        "        if (dataY[i]==1):\n",
        "          p1=p1+1\n",
        "      else:\n",
        "        count2+=1\n",
        "        if (dataY[i]==1):\n",
        "          p2+=1\n",
        "\n",
        "    \n",
        "    me1 = min((p1, count1-p1))\n",
        "    me2 = min((p2, count2-p2))\n",
        "\n",
        "    gain = mep - (me1/total+me2/total)\n",
        "\n",
        "    if gain > gainx:\n",
        "      gainx = gain\n",
        "      ocx = cx\n",
        "    count1 = 0\n",
        "    count2 = 0\n",
        "    p1 = 0\n",
        "    p2 = 0\n",
        "      \n",
        "    cx = cx+0.01\n",
        "\n",
        "  gain = 0\n",
        "  while cy<X2max:\n",
        "\n",
        "    for i in range(dataX.shape[0]):\n",
        "      if (dataX[i,1]<cy):\n",
        "        count1+=1\n",
        "        if (dataY[i]==1):\n",
        "          p1=p1+1\n",
        "      else:\n",
        "        count2+=1\n",
        "        if (dataY[i]==1):\n",
        "          p2+=1\n",
        "      \n",
        "   \n",
        "    me1 = min((p1), count1-(p1))\n",
        "    me2 = min((p2), count2-(p2))\n",
        "\n",
        "    gain = mep - (me1/total+me2/total)\n",
        "    \n",
        "    if gain > gainy:\n",
        "      gainy = gain\n",
        "      ocy = cy\n",
        "        \n",
        "    count1 = 0\n",
        "    count2 = 0\n",
        "    p1 = 0\n",
        "    p2 = 0\n",
        "      \n",
        "    cy = cy+0.01\n",
        "    \n",
        "  # Deciding whether to split about the x-axis or the y-axis\n",
        "  x=0\n",
        "  y=0\n",
        "  if gainx>gainy:\n",
        "    x=1\n",
        "    \n",
        "  else:\n",
        "    y=1\n",
        "\n",
        "  if max(gainx,gainy)<=0:\n",
        "    return;\n",
        "\n",
        "  #Plotting the New Classifier\n",
        "  ptx = np.linspace(-X1min,X1max,1000)\n",
        "  pty = np.linspace(-X2min,X2max,1000)\n",
        "  pts = np.linspace(-5,5,1000)\n",
        "  if x==1:\n",
        "    plt.plot(ocx*np.ones(pts.shape[0]), pts)\n",
        "  else:\n",
        "    plt.plot(pts, ocy*np.ones(pts.shape[0]))\n",
        "    \n",
        "  #Splitting data for further Recursive calls\n",
        "  dataX1 = []\n",
        "  dataX2 = []\n",
        "  dataY1 = []\n",
        "  dataY2 = []\n",
        "  for i in range(total):\n",
        "\n",
        "    if x==1:\n",
        "      if dataX[i,0]<ocx:\n",
        "        dataX1.append([dataX[i,0],dataX[i,1]])\n",
        "        dataY1.append(dataY[i])\n",
        "      else:\n",
        "        dataX2.append([dataX[i,0],dataX[i,1]])\n",
        "        dataY2.append(dataY[i])\n",
        "    else:\n",
        "      if dataX[i,1]<ocy:\n",
        "        dataX1.append([dataX[i,0], dataX[i,1]])\n",
        "        dataY1.append(dataY[i])\n",
        "      else:\n",
        "        dataX2.append([dataX[i,0], dataX[i,1]])\n",
        "        dataY2.append(dataY[i])\n",
        "\n",
        "  dataX1 = np.array(dataX1)\n",
        "  dataX2 = np.array(dataX2)\n",
        "  dataY1 = np.array(dataY1)\n",
        "  dataY2 = np.array(dataY2)\n",
        "\n",
        "  #Recursive calls for child node\n",
        "  if x==1:\n",
        "    Tree(dataX1, dataY1, maxlayer, layer+1, X1min, ocx, X2min, X2max)\n",
        "    Tree(dataX2, dataY2, maxlayer, layer+1, ocx, X1max, X2min, X2max)\n",
        "  else:\n",
        "    Tree(dataX1, dataY1, maxlayer, layer+1, X1min, X1max, X2min, ocy)\n",
        "    Tree(dataX2, dataY2, maxlayer, layer+1, X1min, X1max, ocy, X2max)\n",
        "  \n",
        "  return\n",
        "    "
      ],
      "metadata": {
        "id": "UinjsKLGlwNe"
      },
      "execution_count": 360,
      "outputs": []
    },
    {
      "cell_type": "code",
      "source": [
        "# 1(a)\n",
        "a1 = np.array([1,0])\n",
        "sd1 = np.array([[1,0],[0,1]])\n",
        "m = np.random.multivariate_normal(a1, sd1, 10)\n",
        "\n",
        "a2 = np.array([0,1])\n",
        "sd2 = np.array([[1,0],[0,1]])\n",
        "md = np.random.multivariate_normal(a2, sd2, 10)\n",
        "\n",
        "\n",
        "a=0\n",
        "sd=np.array([[0.1,0],[0,0.1]])\n",
        "a=m[0]\n",
        "p1=np.random.multivariate_normal(a,sd,10)\n",
        "for i in range(9):\n",
        "    a = m[i+1]\n",
        "    p1 = np.concatenate((p1,np.random.multivariate_normal(a, sd, 10)), axis=0)\n",
        "    \n",
        "a = 0\n",
        "sd = np.array([[0.1,0],[0,0.1]])\n",
        "a = md[0]\n",
        "n1= np.random.multivariate_normal(a,sd,10)\n",
        "for i in range(9):\n",
        "    a = md[i+1]\n",
        "    n1 = np.concatenate((n1,np.random.multivariate_normal(a,sd, 10)), axis = 0)\n",
        "\n",
        "# Plotting the formed dataset along with decision tree classifiers\n",
        "plt.figure()\n",
        "plt.plot(p1[0::, 0], p1[0::, 1], 'o', color = 'blue') #+1 dots are shown as blue dots\n",
        "plt.plot(n1[0::, 0], n1[0::, 1],'o', color = 'red')   #-1 dots are shown as red dots\n",
        "\n",
        "X = np.concatenate((p1,n1), axis=0)\n",
        "Y = np.concatenate((np.ones(100), -1*np.ones(100)), axis=0)\n",
        "error=[0]\n",
        "makeTree(X,Y,3)\n",
        "print(error[0]/Y.shape[0]*100)"
      ],
      "metadata": {
        "colab": {
          "base_uri": "https://localhost:8080/",
          "height": 282
        },
        "id": "wn6B_R-CjcPu",
        "outputId": "7ca59366-c9eb-4875-9487-4025423b3bec"
      },
      "execution_count": 379,
      "outputs": [
        {
          "output_type": "display_data",
          "data": {
            "text/plain": [
              "<Figure size 432x288 with 1 Axes>"
            ],
            "image/png": "[encoded data removed]"
          },
          "metadata": {
            "needs_background": "light"
          }
        },
        {
          "output_type": "stream",
          "name": "stdout",
          "text": [
            "1.0\n"
          ]
        }
      ]
    },
    {
      "cell_type": "code",
      "source": [],
      "metadata": {
        "id": "6FWqrhxIryh3"
      },
      "execution_count": 21,
      "outputs": []
    },
    {
      "cell_type": "code",
      "source": [
        "\n"
      ],
      "metadata": {
        "id": "GhLeVaDHj2sl"
      },
      "execution_count": 148,
      "outputs": []
    },
    {
      "cell_type": "code",
      "source": [],
      "metadata": {
        "id": "JviBfbqv2LPw"
      },
      "execution_count": null,
      "outputs": []
    },
    {
      "cell_type": "code",
      "source": [],
      "metadata": {
        "id": "RkPL0LeY0gnV"
      },
      "execution_count": 157,
      "outputs": []
    },
    {
      "cell_type": "code",
      "source": [],
      "metadata": {
        "id": "j47TAKxLz7xN"
      },
      "execution_count": 236,
      "outputs": []
    }
  ]
}